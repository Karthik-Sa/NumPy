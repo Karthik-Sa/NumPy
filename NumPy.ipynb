{
 "cells": [
  {
   "cell_type": "code",
   "execution_count": null,
   "id": "bbfb5059",
   "metadata": {},
   "outputs": [],
   "source": [
    "import numpy as np"
   ]
  },
  {
   "cell_type": "code",
   "execution_count": null,
   "id": "f53cf2c6",
   "metadata": {},
   "outputs": [],
   "source": [
    "numpy_array = np.arange(1000000)\n",
    "numpy_array"
   ]
  },
  {
   "cell_type": "code",
   "execution_count": null,
   "id": "56f1eb19",
   "metadata": {},
   "outputs": [],
   "source": [
    "python_list = list(range(1000000))\n",
    "python_list"
   ]
  },
  {
   "cell_type": "code",
   "execution_count": null,
   "id": "095705cf",
   "metadata": {},
   "outputs": [],
   "source": [
    "%time for num in range(100): nitems = numpy_array*2"
   ]
  },
  {
   "cell_type": "code",
   "execution_count": null,
   "id": "0f415538",
   "metadata": {},
   "outputs": [],
   "source": [
    "%time for num in range(100): nitems = python_list*2"
   ]
  },
  {
   "cell_type": "markdown",
   "id": "2af14f24",
   "metadata": {},
   "source": [
    "### Create NumPy Array"
   ]
  },
  {
   "cell_type": "code",
   "execution_count": null,
   "id": "81f3861e",
   "metadata": {},
   "outputs": [],
   "source": [
    "values = np.array([9, 4, 2, 98, 0])\n",
    "values"
   ]
  },
  {
   "cell_type": "code",
   "execution_count": null,
   "id": "a14ab668",
   "metadata": {},
   "outputs": [],
   "source": [
    "values.dtype"
   ]
  },
  {
   "cell_type": "code",
   "execution_count": null,
   "id": "5b2a9722",
   "metadata": {},
   "outputs": [],
   "source": [
    "values[0]"
   ]
  },
  {
   "cell_type": "code",
   "execution_count": null,
   "id": "e0219e06",
   "metadata": {},
   "outputs": [],
   "source": [
    "values[4] = 54\n",
    "values"
   ]
  },
  {
   "cell_type": "code",
   "execution_count": null,
   "id": "9f2ba8ed",
   "metadata": {},
   "outputs": [],
   "source": [
    "values[4] = 28.5\n",
    "values\n",
    "\n",
    "#NumPy supports only same kind of data type"
   ]
  },
  {
   "cell_type": "markdown",
   "id": "fd030810",
   "metadata": {},
   "source": [
    "#### Float"
   ]
  },
  {
   "cell_type": "code",
   "execution_count": null,
   "id": "4527d132",
   "metadata": {},
   "outputs": [],
   "source": [
    "value = np.array([10.2, 11.6, 14.8, 15.7])\n",
    "value"
   ]
  },
  {
   "cell_type": "code",
   "execution_count": null,
   "id": "24de3278",
   "metadata": {},
   "outputs": [],
   "source": [
    "value[1] = 12.6\n",
    "value"
   ]
  },
  {
   "cell_type": "code",
   "execution_count": null,
   "id": "24d32d6e",
   "metadata": {},
   "outputs": [],
   "source": [
    "value.dtype"
   ]
  },
  {
   "cell_type": "markdown",
   "id": "3cd1d1d7",
   "metadata": {},
   "source": [
    "## One dimensional array"
   ]
  },
  {
   "cell_type": "code",
   "execution_count": null,
   "id": "492c4db2",
   "metadata": {},
   "outputs": [],
   "source": [
    "one_dim = np.array([2, 6, 12])\n",
    "one_dim"
   ]
  },
  {
   "cell_type": "code",
   "execution_count": null,
   "id": "94d47435",
   "metadata": {},
   "outputs": [],
   "source": [
    "one_dim.ndim"
   ]
  },
  {
   "cell_type": "code",
   "execution_count": null,
   "id": "fac879b8",
   "metadata": {},
   "outputs": [],
   "source": [
    "one_dim.size"
   ]
  },
  {
   "cell_type": "code",
   "execution_count": null,
   "id": "8725601b",
   "metadata": {},
   "outputs": [],
   "source": [
    "one_dim.shape"
   ]
  },
  {
   "cell_type": "markdown",
   "id": "d7cf7cb3",
   "metadata": {},
   "source": [
    "## Two dimensional array"
   ]
  },
  {
   "cell_type": "code",
   "execution_count": null,
   "id": "9861fad0",
   "metadata": {},
   "outputs": [],
   "source": [
    "two_dim = np.array([\n",
    "    [5, 10, 12],\n",
    "    [9, 3, 1],\n",
    "    [34, 8, 12]\n",
    "])\n",
    "\n",
    "two_dim"
   ]
  },
  {
   "cell_type": "code",
   "execution_count": null,
   "id": "1348808a",
   "metadata": {},
   "outputs": [],
   "source": [
    "two_dim.ndim"
   ]
  },
  {
   "cell_type": "code",
   "execution_count": null,
   "id": "daf1dd3b",
   "metadata": {},
   "outputs": [],
   "source": [
    "two_dim.shape"
   ]
  },
  {
   "cell_type": "code",
   "execution_count": null,
   "id": "d901c9cf",
   "metadata": {},
   "outputs": [],
   "source": [
    "two_dim.size"
   ]
  },
  {
   "cell_type": "markdown",
   "id": "47515cf8",
   "metadata": {},
   "source": [
    "## Three dimensional array"
   ]
  },
  {
   "cell_type": "code",
   "execution_count": null,
   "id": "26aff722",
   "metadata": {},
   "outputs": [],
   "source": [
    "three_dim = np.array([\n",
    "    [\n",
    "        [1, 2, 3],\n",
    "        [4, 5, 6]\n",
    "    ],\n",
    "    [\n",
    "        [7, 8, 9],\n",
    "        [10, 11, 12]\n",
    "    ]\n",
    "])\n",
    "\n",
    "three_dim"
   ]
  },
  {
   "cell_type": "code",
   "execution_count": null,
   "id": "4402ed03",
   "metadata": {},
   "outputs": [],
   "source": [
    "three_dim.ndim"
   ]
  },
  {
   "cell_type": "code",
   "execution_count": null,
   "id": "8b2bfd39",
   "metadata": {},
   "outputs": [],
   "source": [
    "three_dim.size"
   ]
  },
  {
   "cell_type": "code",
   "execution_count": null,
   "id": "e6e628ee",
   "metadata": {},
   "outputs": [],
   "source": [
    "three_dim.shape"
   ]
  },
  {
   "cell_type": "code",
   "execution_count": null,
   "id": "2d259985",
   "metadata": {},
   "outputs": [],
   "source": [
    "import numpy as np"
   ]
  },
  {
   "cell_type": "code",
   "execution_count": null,
   "id": "bb4ac254",
   "metadata": {},
   "outputs": [],
   "source": [
    "i_list = [1, 2, 3, 4, 5]\n",
    "i_list"
   ]
  },
  {
   "cell_type": "code",
   "execution_count": null,
   "id": "0de0cbd6",
   "metadata": {},
   "outputs": [],
   "source": [
    "t_tuple = (6, 7, 8, 9, 10)\n",
    "t_tuple"
   ]
  },
  {
   "cell_type": "code",
   "execution_count": null,
   "id": "c8511e94",
   "metadata": {},
   "outputs": [],
   "source": [
    "array_list = np.array(i_list)\n",
    "array_list"
   ]
  },
  {
   "cell_type": "code",
   "execution_count": null,
   "id": "e889bb00",
   "metadata": {},
   "outputs": [],
   "source": [
    "array_tuple = np.array(t_tuple)\n",
    "array_tuple"
   ]
  },
  {
   "cell_type": "code",
   "execution_count": null,
   "id": "4ee58b8f",
   "metadata": {},
   "outputs": [],
   "source": [
    "array_list.dtype"
   ]
  },
  {
   "cell_type": "code",
   "execution_count": null,
   "id": "e3264a7f",
   "metadata": {},
   "outputs": [],
   "source": [
    "array_tuple.dtype"
   ]
  },
  {
   "cell_type": "code",
   "execution_count": null,
   "id": "d58fd36a",
   "metadata": {},
   "outputs": [],
   "source": [
    "item = np.arange(10)\n",
    "item"
   ]
  },
  {
   "cell_type": "code",
   "execution_count": null,
   "id": "caa8917d",
   "metadata": {},
   "outputs": [],
   "source": [
    "items = np.arange(1,15)\n",
    "items"
   ]
  },
  {
   "cell_type": "code",
   "execution_count": null,
   "id": "630c3c1a",
   "metadata": {},
   "outputs": [],
   "source": [
    "items = np.arange(1,50,10)\n",
    "items"
   ]
  },
  {
   "cell_type": "code",
   "execution_count": null,
   "id": "b74e02f1",
   "metadata": {},
   "outputs": [],
   "source": [
    "items = np.linspace(1,10)\n",
    "items"
   ]
  },
  {
   "cell_type": "code",
   "execution_count": null,
   "id": "d60e0303",
   "metadata": {},
   "outputs": [],
   "source": [
    "items = np.linspace(1,10,5)\n",
    "items"
   ]
  },
  {
   "cell_type": "code",
   "execution_count": null,
   "id": "a2c6027e",
   "metadata": {},
   "outputs": [],
   "source": [
    "items = np.random.randint(1,10)\n",
    "items"
   ]
  },
  {
   "cell_type": "code",
   "execution_count": null,
   "id": "5392d439",
   "metadata": {},
   "outputs": [],
   "source": [
    "items = np.random.randint(1,10,5)\n",
    "items"
   ]
  },
  {
   "cell_type": "code",
   "execution_count": null,
   "id": "30a5fb69",
   "metadata": {},
   "outputs": [],
   "source": [
    "item = np.zeros(4)\n",
    "item"
   ]
  },
  {
   "cell_type": "code",
   "execution_count": null,
   "id": "387a1c53",
   "metadata": {},
   "outputs": [],
   "source": [
    "item = np.ones(5)\n",
    "item"
   ]
  },
  {
   "cell_type": "code",
   "execution_count": null,
   "id": "ee1db05a",
   "metadata": {},
   "outputs": [],
   "source": [
    "items = np.empty(4)\n",
    "items"
   ]
  },
  {
   "cell_type": "code",
   "execution_count": null,
   "id": "3eeec772",
   "metadata": {},
   "outputs": [],
   "source": [
    "item = np.empty(5, dtype = int)\n",
    "item"
   ]
  },
  {
   "cell_type": "code",
   "execution_count": null,
   "id": "26c83c7c",
   "metadata": {},
   "outputs": [],
   "source": [
    "items = np.empty(3, dtype = int)\n",
    "items"
   ]
  },
  {
   "cell_type": "code",
   "execution_count": null,
   "id": "24ed5418",
   "metadata": {},
   "outputs": [],
   "source": [
    "items.fill(4)\n",
    "items"
   ]
  },
  {
   "cell_type": "code",
   "execution_count": null,
   "id": "6609d8b4",
   "metadata": {},
   "outputs": [],
   "source": [
    "items = np.full(5,4)\n",
    "items"
   ]
  },
  {
   "cell_type": "code",
   "execution_count": null,
   "id": "fcff530f",
   "metadata": {},
   "outputs": [],
   "source": [
    "items = np.full((5,2), 4)\n",
    "items"
   ]
  },
  {
   "cell_type": "code",
   "execution_count": 1,
   "id": "c5ee765b",
   "metadata": {},
   "outputs": [],
   "source": [
    "import numpy as np"
   ]
  },
  {
   "cell_type": "code",
   "execution_count": 2,
   "id": "efac9a6b",
   "metadata": {},
   "outputs": [],
   "source": [
    "items = np.array([10,30,40,50])"
   ]
  },
  {
   "cell_type": "code",
   "execution_count": 3,
   "id": "b269d28f",
   "metadata": {},
   "outputs": [
    {
     "data": {
      "text/plain": [
       "array([10, 20, 30, 40, 50])"
      ]
     },
     "execution_count": 3,
     "metadata": {},
     "output_type": "execute_result"
    }
   ],
   "source": [
    "items = np.insert(items,1,20)\n",
    "items"
   ]
  },
  {
   "cell_type": "code",
   "execution_count": 4,
   "id": "e52dd744",
   "metadata": {
    "scrolled": true
   },
   "outputs": [
    {
     "data": {
      "text/plain": [
       "array([10, 20, 30, 40, 50, 60])"
      ]
     },
     "execution_count": 4,
     "metadata": {},
     "output_type": "execute_result"
    }
   ],
   "source": [
    "items = np.append(items,60)\n",
    "items"
   ]
  },
  {
   "cell_type": "code",
   "execution_count": 7,
   "id": "2c7ee7b2",
   "metadata": {},
   "outputs": [
    {
     "data": {
      "text/plain": [
       "array([10, 20, 30, 40, 50, 60])"
      ]
     },
     "execution_count": 7,
     "metadata": {},
     "output_type": "execute_result"
    }
   ],
   "source": [
    "items"
   ]
  },
  {
   "cell_type": "code",
   "execution_count": 9,
   "id": "27ed4cb0",
   "metadata": {},
   "outputs": [
    {
     "data": {
      "text/plain": [
       "array([10, 20, 30, 40, 50])"
      ]
     },
     "execution_count": 9,
     "metadata": {},
     "output_type": "execute_result"
    }
   ],
   "source": [
    "items = np.delete(items,5)\n",
    "items"
   ]
  },
  {
   "cell_type": "code",
   "execution_count": 14,
   "id": "94021dcc",
   "metadata": {},
   "outputs": [
    {
     "data": {
      "text/plain": [
       "array([[ 9,  8,  6,  2],\n",
       "       [10,  4,  3, 58]])"
      ]
     },
     "execution_count": 14,
     "metadata": {},
     "output_type": "execute_result"
    }
   ],
   "source": [
    "items_2d = np.array([[9, 8, 6, 2], [10, 4, 3, 58]])\n",
    "items_2d"
   ]
  },
  {
   "cell_type": "code",
   "execution_count": 15,
   "id": "9cf9260b",
   "metadata": {},
   "outputs": [
    {
     "data": {
      "text/plain": [
       "array([[ 2,  6,  8,  9],\n",
       "       [ 3,  4, 10, 58]])"
      ]
     },
     "execution_count": 15,
     "metadata": {},
     "output_type": "execute_result"
    }
   ],
   "source": [
    "items_2d = np.sort(items_2d)\n",
    "items_2d"
   ]
  },
  {
   "cell_type": "code",
   "execution_count": 16,
   "id": "709efb79",
   "metadata": {},
   "outputs": [
    {
     "data": {
      "text/plain": [
       "array([10, 25, 46, 57])"
      ]
     },
     "execution_count": 16,
     "metadata": {},
     "output_type": "execute_result"
    }
   ],
   "source": [
    "items = np.array([10, 25, 46, 57])\n",
    "items"
   ]
  },
  {
   "cell_type": "code",
   "execution_count": 17,
   "id": "6e210ad3",
   "metadata": {},
   "outputs": [
    {
     "data": {
      "text/plain": [
       "array([10, 25, 46, 57])"
      ]
     },
     "execution_count": 17,
     "metadata": {},
     "output_type": "execute_result"
    }
   ],
   "source": [
    "items_copy = items.copy()\n",
    "items_copy"
   ]
  },
  {
   "cell_type": "code",
   "execution_count": 18,
   "id": "388ecbdf",
   "metadata": {},
   "outputs": [
    {
     "data": {
      "text/plain": [
       "10"
      ]
     },
     "execution_count": 18,
     "metadata": {},
     "output_type": "execute_result"
    }
   ],
   "source": [
    "items_copy[0]"
   ]
  },
  {
   "cell_type": "code",
   "execution_count": 19,
   "id": "cc1d126b",
   "metadata": {},
   "outputs": [],
   "source": [
    "items_copy[0] = 100"
   ]
  },
  {
   "cell_type": "code",
   "execution_count": 20,
   "id": "3473ba2b",
   "metadata": {},
   "outputs": [
    {
     "data": {
      "text/plain": [
       "array([100,  25,  46,  57])"
      ]
     },
     "execution_count": 20,
     "metadata": {},
     "output_type": "execute_result"
    }
   ],
   "source": [
    "items_copy"
   ]
  },
  {
   "cell_type": "code",
   "execution_count": 21,
   "id": "d1733d8e",
   "metadata": {},
   "outputs": [
    {
     "data": {
      "text/plain": [
       "array([10, 25, 46, 57])"
      ]
     },
     "execution_count": 21,
     "metadata": {},
     "output_type": "execute_result"
    }
   ],
   "source": [
    "items"
   ]
  },
  {
   "cell_type": "code",
   "execution_count": 22,
   "id": "e4fbed06",
   "metadata": {},
   "outputs": [
    {
     "data": {
      "text/plain": [
       "array([10, 25, 46, 57])"
      ]
     },
     "execution_count": 22,
     "metadata": {},
     "output_type": "execute_result"
    }
   ],
   "source": [
    "ref_items = items\n",
    "ref_items"
   ]
  },
  {
   "cell_type": "code",
   "execution_count": 23,
   "id": "b8e91017",
   "metadata": {},
   "outputs": [
    {
     "data": {
      "text/plain": [
       "10"
      ]
     },
     "execution_count": 23,
     "metadata": {},
     "output_type": "execute_result"
    }
   ],
   "source": [
    "ref_items[0]"
   ]
  },
  {
   "cell_type": "code",
   "execution_count": 24,
   "id": "11c5a169",
   "metadata": {},
   "outputs": [],
   "source": [
    "ref_items[0] = 100"
   ]
  },
  {
   "cell_type": "code",
   "execution_count": 25,
   "id": "4c2be025",
   "metadata": {},
   "outputs": [
    {
     "data": {
      "text/plain": [
       "array([100,  25,  46,  57])"
      ]
     },
     "execution_count": 25,
     "metadata": {},
     "output_type": "execute_result"
    }
   ],
   "source": [
    "ref_items"
   ]
  },
  {
   "cell_type": "code",
   "execution_count": 26,
   "id": "2ead6643",
   "metadata": {},
   "outputs": [
    {
     "data": {
      "text/plain": [
       "100"
      ]
     },
     "execution_count": 26,
     "metadata": {},
     "output_type": "execute_result"
    }
   ],
   "source": [
    "items[0]"
   ]
  },
  {
   "cell_type": "code",
   "execution_count": 27,
   "id": "497053f6",
   "metadata": {},
   "outputs": [
    {
     "data": {
      "text/plain": [
       "array([10, 25, 46, 57])"
      ]
     },
     "execution_count": 27,
     "metadata": {},
     "output_type": "execute_result"
    }
   ],
   "source": [
    "items[0] = 10\n",
    "items"
   ]
  },
  {
   "cell_type": "code",
   "execution_count": 28,
   "id": "adf4af78",
   "metadata": {},
   "outputs": [
    {
     "data": {
      "text/plain": [
       "array([10, 25, 46, 57])"
      ]
     },
     "execution_count": 28,
     "metadata": {},
     "output_type": "execute_result"
    }
   ],
   "source": [
    "ref_items"
   ]
  },
  {
   "cell_type": "code",
   "execution_count": 29,
   "id": "53da0bb9",
   "metadata": {},
   "outputs": [
    {
     "data": {
      "text/plain": [
       "array([ 1,  2,  3,  4,  5,  6,  7,  8,  9, 10, 11, 12, 13, 14, 15, 16, 17,\n",
       "       18, 19, 20, 21, 22, 23, 24])"
      ]
     },
     "execution_count": 29,
     "metadata": {},
     "output_type": "execute_result"
    }
   ],
   "source": [
    "items = np.arange(1,25)\n",
    "items"
   ]
  },
  {
   "cell_type": "code",
   "execution_count": 33,
   "id": "1d571238",
   "metadata": {},
   "outputs": [
    {
     "data": {
      "text/plain": [
       "array([[ 1,  2,  3,  4,  5,  6],\n",
       "       [ 7,  8,  9, 10, 11, 12],\n",
       "       [13, 14, 15, 16, 17, 18],\n",
       "       [19, 20, 21, 22, 23, 24]])"
      ]
     },
     "execution_count": 33,
     "metadata": {},
     "output_type": "execute_result"
    }
   ],
   "source": [
    "np.reshape(items, (4,6))"
   ]
  },
  {
   "cell_type": "code",
   "execution_count": 34,
   "id": "7bad8cee",
   "metadata": {},
   "outputs": [
    {
     "data": {
      "text/plain": [
       "array([[[ 1,  2],\n",
       "        [ 3,  4],\n",
       "        [ 5,  6],\n",
       "        [ 7,  8]],\n",
       "\n",
       "       [[ 9, 10],\n",
       "        [11, 12],\n",
       "        [13, 14],\n",
       "        [15, 16]],\n",
       "\n",
       "       [[17, 18],\n",
       "        [19, 20],\n",
       "        [21, 22],\n",
       "        [23, 24]]])"
      ]
     },
     "execution_count": 34,
     "metadata": {},
     "output_type": "execute_result"
    }
   ],
   "source": [
    "np.reshape(items, (3,4,2))"
   ]
  },
  {
   "cell_type": "code",
   "execution_count": 35,
   "id": "998855af",
   "metadata": {},
   "outputs": [
    {
     "data": {
      "text/plain": [
       "array([ 1,  2,  3,  4,  5,  6,  7,  8,  9, 10, 11, 12, 13, 14, 15, 16, 17,\n",
       "       18, 19, 20, 21, 22, 23, 24])"
      ]
     },
     "execution_count": 35,
     "metadata": {},
     "output_type": "execute_result"
    }
   ],
   "source": [
    "items_flat = items.flatten()\n",
    "items_flat"
   ]
  },
  {
   "cell_type": "code",
   "execution_count": 40,
   "id": "4d1fbffe",
   "metadata": {},
   "outputs": [
    {
     "data": {
      "text/plain": [
       "array([ 1,  2,  3,  4,  5,  6,  7,  8,  9, 10])"
      ]
     },
     "execution_count": 40,
     "metadata": {},
     "output_type": "execute_result"
    }
   ],
   "source": [
    "pack_01 = np.arange(1,11)\n",
    "pack_01"
   ]
  },
  {
   "cell_type": "code",
   "execution_count": 41,
   "id": "4d7d2922",
   "metadata": {},
   "outputs": [
    {
     "data": {
      "text/plain": [
       "array([11, 12, 13, 14, 15, 16, 17, 18, 19, 20])"
      ]
     },
     "execution_count": 41,
     "metadata": {},
     "output_type": "execute_result"
    }
   ],
   "source": [
    "pack_02 = np.arange(11,21)\n",
    "pack_02"
   ]
  },
  {
   "cell_type": "code",
   "execution_count": 42,
   "id": "bc3127c4",
   "metadata": {},
   "outputs": [
    {
     "data": {
      "text/plain": [
       "array([ 1,  2,  3,  4,  5,  6,  7,  8,  9, 10, 11, 12, 13, 14, 15, 16, 17,\n",
       "       18, 19, 20])"
      ]
     },
     "execution_count": 42,
     "metadata": {},
     "output_type": "execute_result"
    }
   ],
   "source": [
    "pack_con = np.concatenate((pack_01,pack_02))\n",
    "pack_con"
   ]
  },
  {
   "cell_type": "code",
   "execution_count": 43,
   "id": "dd39b1fd",
   "metadata": {},
   "outputs": [
    {
     "data": {
      "text/plain": [
       "array([[ 1,  2,  3,  4,  5],\n",
       "       [ 6,  7,  8,  9, 10]])"
      ]
     },
     "execution_count": 43,
     "metadata": {},
     "output_type": "execute_result"
    }
   ],
   "source": [
    "pack_01 = np.reshape(pack_01, (2,5))\n",
    "pack_01"
   ]
  },
  {
   "cell_type": "code",
   "execution_count": 44,
   "id": "6902e373",
   "metadata": {},
   "outputs": [
    {
     "data": {
      "text/plain": [
       "array([[11, 12, 13, 14, 15],\n",
       "       [16, 17, 18, 19, 20]])"
      ]
     },
     "execution_count": 44,
     "metadata": {},
     "output_type": "execute_result"
    }
   ],
   "source": [
    "pack_02 = np.reshape(pack_02, (2,5))\n",
    "pack_02"
   ]
  },
  {
   "cell_type": "code",
   "execution_count": 45,
   "id": "91b3063a",
   "metadata": {},
   "outputs": [
    {
     "data": {
      "text/plain": [
       "array([[ 1,  2,  3,  4,  5],\n",
       "       [ 6,  7,  8,  9, 10],\n",
       "       [11, 12, 13, 14, 15],\n",
       "       [16, 17, 18, 19, 20]])"
      ]
     },
     "execution_count": 45,
     "metadata": {},
     "output_type": "execute_result"
    }
   ],
   "source": [
    "pack_con = np.concatenate((pack_01,pack_02))\n",
    "pack_con"
   ]
  },
  {
   "cell_type": "code",
   "execution_count": 46,
   "id": "9d0fe63f",
   "metadata": {},
   "outputs": [
    {
     "data": {
      "text/plain": [
       "array([[ 1,  2,  3,  4,  5, 11, 12, 13, 14, 15],\n",
       "       [ 6,  7,  8,  9, 10, 16, 17, 18, 19, 20]])"
      ]
     },
     "execution_count": 46,
     "metadata": {},
     "output_type": "execute_result"
    }
   ],
   "source": [
    "pack_con = np.concatenate((pack_01,pack_02), axis=1)\n",
    "pack_con"
   ]
  },
  {
   "cell_type": "code",
   "execution_count": 48,
   "id": "87c796c1",
   "metadata": {},
   "outputs": [
    {
     "data": {
      "text/plain": [
       "array([ 1,  2,  3,  4,  5,  6,  7,  8,  9, 10])"
      ]
     },
     "execution_count": 48,
     "metadata": {},
     "output_type": "execute_result"
    }
   ],
   "source": [
    "pack_01 = np.arange(1,11)\n",
    "pack_01"
   ]
  },
  {
   "cell_type": "code",
   "execution_count": 49,
   "id": "52d1917f",
   "metadata": {},
   "outputs": [
    {
     "data": {
      "text/plain": [
       "array([11, 12, 13, 14, 15, 16, 17, 18, 19, 20])"
      ]
     },
     "execution_count": 49,
     "metadata": {},
     "output_type": "execute_result"
    }
   ],
   "source": [
    "pack_02 = np.arange(11,21)\n",
    "pack_02"
   ]
  },
  {
   "cell_type": "code",
   "execution_count": 50,
   "id": "9f918556",
   "metadata": {},
   "outputs": [
    {
     "data": {
      "text/plain": [
       "array([[ 1,  2,  3,  4,  5,  6,  7,  8,  9, 10],\n",
       "       [11, 12, 13, 14, 15, 16, 17, 18, 19, 20]])"
      ]
     },
     "execution_count": 50,
     "metadata": {},
     "output_type": "execute_result"
    }
   ],
   "source": [
    "pack_stack = np.stack((pack_01,pack_02))\n",
    "pack_stack"
   ]
  },
  {
   "cell_type": "code",
   "execution_count": 51,
   "id": "89424658",
   "metadata": {},
   "outputs": [
    {
     "data": {
      "text/plain": [
       "array([ 1,  2,  3,  4,  5,  6,  7,  8,  9, 10, 11, 12, 13, 14, 15, 16, 17,\n",
       "       18, 19, 20])"
      ]
     },
     "execution_count": 51,
     "metadata": {},
     "output_type": "execute_result"
    }
   ],
   "source": [
    "pack_hstack = np.hstack((pack_01,pack_02))\n",
    "pack_hstack"
   ]
  },
  {
   "cell_type": "code",
   "execution_count": 52,
   "id": "8f043e99",
   "metadata": {},
   "outputs": [
    {
     "data": {
      "text/plain": [
       "array([[ 1,  2,  3,  4,  5,  6,  7,  8,  9, 10],\n",
       "       [11, 12, 13, 14, 15, 16, 17, 18, 19, 20]])"
      ]
     },
     "execution_count": 52,
     "metadata": {},
     "output_type": "execute_result"
    }
   ],
   "source": [
    "pack_vstack = np.vstack((pack_01,pack_02))\n",
    "pack_vstack"
   ]
  },
  {
   "cell_type": "code",
   "execution_count": 53,
   "id": "5e39d245",
   "metadata": {},
   "outputs": [
    {
     "data": {
      "text/plain": [
       "array([ 1,  2,  3,  4,  5,  6,  7,  8,  9, 10])"
      ]
     },
     "execution_count": 53,
     "metadata": {},
     "output_type": "execute_result"
    }
   ],
   "source": [
    "pack_01"
   ]
  },
  {
   "cell_type": "code",
   "execution_count": 54,
   "id": "e85cee72",
   "metadata": {},
   "outputs": [
    {
     "data": {
      "text/plain": [
       "[array([1, 2, 3, 4]), array([5, 6, 7]), array([ 8,  9, 10])]"
      ]
     },
     "execution_count": 54,
     "metadata": {},
     "output_type": "execute_result"
    }
   ],
   "source": [
    "pack_split = np.array_split(pack_01,3)\n",
    "pack_split"
   ]
  },
  {
   "cell_type": "code",
   "execution_count": 55,
   "id": "68e6f91e",
   "metadata": {},
   "outputs": [
    {
     "data": {
      "text/plain": [
       "[array([1, 2, 3, 4, 5]), array([ 6,  7,  8,  9, 10])]"
      ]
     },
     "execution_count": 55,
     "metadata": {},
     "output_type": "execute_result"
    }
   ],
   "source": [
    "pack_split = np.array_split(pack_01,2)\n",
    "pack_split"
   ]
  },
  {
   "cell_type": "code",
   "execution_count": 56,
   "id": "93e78fa5",
   "metadata": {},
   "outputs": [
    {
     "data": {
      "text/plain": [
       "array([1, 2, 3, 4, 5])"
      ]
     },
     "execution_count": 56,
     "metadata": {},
     "output_type": "execute_result"
    }
   ],
   "source": [
    "a = np.arange(1,6)\n",
    "a"
   ]
  },
  {
   "cell_type": "code",
   "execution_count": 57,
   "id": "06e1a114",
   "metadata": {},
   "outputs": [
    {
     "data": {
      "text/plain": [
       "array([ 7,  8,  9, 10, 11])"
      ]
     },
     "execution_count": 57,
     "metadata": {},
     "output_type": "execute_result"
    }
   ],
   "source": [
    "b = np.arange(7,12)\n",
    "b"
   ]
  },
  {
   "cell_type": "code",
   "execution_count": 58,
   "id": "92ee0d44",
   "metadata": {},
   "outputs": [
    {
     "data": {
      "text/plain": [
       "array([ 8, 10, 12, 14, 16])"
      ]
     },
     "execution_count": 58,
     "metadata": {},
     "output_type": "execute_result"
    }
   ],
   "source": [
    "np.add(a,b)"
   ]
  },
  {
   "cell_type": "code",
   "execution_count": 59,
   "id": "1798c619",
   "metadata": {},
   "outputs": [
    {
     "data": {
      "text/plain": [
       "array([-6, -6, -6, -6, -6])"
      ]
     },
     "execution_count": 59,
     "metadata": {},
     "output_type": "execute_result"
    }
   ],
   "source": [
    "np.subtract(a,b)"
   ]
  },
  {
   "cell_type": "code",
   "execution_count": 60,
   "id": "0cf09d10",
   "metadata": {},
   "outputs": [
    {
     "data": {
      "text/plain": [
       "array([6, 6, 6, 6, 6])"
      ]
     },
     "execution_count": 60,
     "metadata": {},
     "output_type": "execute_result"
    }
   ],
   "source": [
    "np.subtract(b,a)"
   ]
  },
  {
   "cell_type": "code",
   "execution_count": 61,
   "id": "2abcfa3c",
   "metadata": {},
   "outputs": [
    {
     "data": {
      "text/plain": [
       "array([ 7, 16, 27, 40, 55])"
      ]
     },
     "execution_count": 61,
     "metadata": {},
     "output_type": "execute_result"
    }
   ],
   "source": [
    "np.multiply(a,b)"
   ]
  },
  {
   "cell_type": "code",
   "execution_count": 62,
   "id": "a6c922f2",
   "metadata": {},
   "outputs": [
    {
     "data": {
      "text/plain": [
       "array([0.14285714, 0.25      , 0.33333333, 0.4       , 0.45454545])"
      ]
     },
     "execution_count": 62,
     "metadata": {},
     "output_type": "execute_result"
    }
   ],
   "source": [
    "np.divide(a,b)"
   ]
  },
  {
   "cell_type": "code",
   "execution_count": 63,
   "id": "aedab2d0",
   "metadata": {},
   "outputs": [
    {
     "data": {
      "text/plain": [
       "array([1, 2, 3, 4, 5], dtype=int32)"
      ]
     },
     "execution_count": 63,
     "metadata": {},
     "output_type": "execute_result"
    }
   ],
   "source": [
    "np.mod(a,b)"
   ]
  },
  {
   "cell_type": "code",
   "execution_count": 64,
   "id": "99f7333d",
   "metadata": {},
   "outputs": [
    {
     "data": {
      "text/plain": [
       "array([1.        , 1.41421356, 1.73205081, 2.        , 2.23606798])"
      ]
     },
     "execution_count": 64,
     "metadata": {},
     "output_type": "execute_result"
    }
   ],
   "source": [
    "np.sqrt(a)"
   ]
  },
  {
   "cell_type": "code",
   "execution_count": 65,
   "id": "55ad7bbb",
   "metadata": {},
   "outputs": [
    {
     "data": {
      "text/plain": [
       "array([[0, 1, 2],\n",
       "       [3, 4, 5],\n",
       "       [6, 7, 8]])"
      ]
     },
     "execution_count": 65,
     "metadata": {},
     "output_type": "execute_result"
    }
   ],
   "source": [
    "items = np.arange(9).reshape(3,3)\n",
    "items"
   ]
  },
  {
   "cell_type": "code",
   "execution_count": 66,
   "id": "17ad074b",
   "metadata": {},
   "outputs": [
    {
     "data": {
      "text/plain": [
       "array([[2, 1, 0],\n",
       "       [5, 4, 3],\n",
       "       [8, 7, 6]])"
      ]
     },
     "execution_count": 66,
     "metadata": {},
     "output_type": "execute_result"
    }
   ],
   "source": [
    "np.flip(items,1)"
   ]
  },
  {
   "cell_type": "code",
   "execution_count": 67,
   "id": "b0ce2739",
   "metadata": {},
   "outputs": [
    {
     "data": {
      "text/plain": [
       "array([[8, 7, 6],\n",
       "       [5, 4, 3],\n",
       "       [2, 1, 0]])"
      ]
     },
     "execution_count": 67,
     "metadata": {},
     "output_type": "execute_result"
    }
   ],
   "source": [
    "np.flip(items)"
   ]
  },
  {
   "cell_type": "raw",
   "id": "baa84a0f",
   "metadata": {},
   "source": [
    "first_array = np.arange(16).reshape(4,4)\n",
    "first_array"
   ]
  },
  {
   "cell_type": "code",
   "execution_count": 69,
   "id": "a41927a8",
   "metadata": {},
   "outputs": [
    {
     "data": {
      "text/plain": [
       "matrix([[ 0,  1,  2,  3],\n",
       "        [ 4,  5,  6,  7],\n",
       "        [ 8,  9, 10, 11],\n",
       "        [12, 13, 14, 15]])"
      ]
     },
     "execution_count": 69,
     "metadata": {},
     "output_type": "execute_result"
    }
   ],
   "source": [
    "first_matrix = np.matrix(first_array)\n",
    "first_matrix"
   ]
  },
  {
   "cell_type": "code",
   "execution_count": 70,
   "id": "9f1668eb",
   "metadata": {},
   "outputs": [
    {
     "data": {
      "text/plain": [
       "matrix([[1., 0., 0., 0.],\n",
       "        [0., 1., 0., 0.],\n",
       "        [0., 0., 1., 0.],\n",
       "        [0., 0., 0., 1.]])"
      ]
     },
     "execution_count": 70,
     "metadata": {},
     "output_type": "execute_result"
    }
   ],
   "source": [
    "second_matrix = np.matrix(np.identity(4))\n",
    "second_matrix"
   ]
  },
  {
   "cell_type": "code",
   "execution_count": 71,
   "id": "c748e76d",
   "metadata": {},
   "outputs": [
    {
     "data": {
      "text/plain": [
       "array([[4, 0, 2],\n",
       "       [1, 2, 2]])"
      ]
     },
     "execution_count": 71,
     "metadata": {},
     "output_type": "execute_result"
    }
   ],
   "source": [
    "matrix_a = np.random.randint(5, size=(2,3))\n",
    "matrix_a"
   ]
  },
  {
   "cell_type": "code",
   "execution_count": 73,
   "id": "39fe5e4e",
   "metadata": {},
   "outputs": [
    {
     "data": {
      "text/plain": [
       "array([[4, 3],\n",
       "       [4, 2],\n",
       "       [0, 0]])"
      ]
     },
     "execution_count": 73,
     "metadata": {},
     "output_type": "execute_result"
    }
   ],
   "source": [
    "matrix_b = np.random.randint(5, size=(3,2))\n",
    "matrix_b"
   ]
  },
  {
   "cell_type": "code",
   "execution_count": 74,
   "id": "5118c66f",
   "metadata": {},
   "outputs": [
    {
     "data": {
      "text/plain": [
       "array([[16, 12],\n",
       "       [12,  7]])"
      ]
     },
     "execution_count": 74,
     "metadata": {},
     "output_type": "execute_result"
    }
   ],
   "source": [
    "np.matmul(matrix_a,matrix_b)"
   ]
  },
  {
   "cell_type": "code",
   "execution_count": 75,
   "id": "f7a3c913",
   "metadata": {},
   "outputs": [],
   "source": [
    "def calc_gst(num):\n",
    "    return (num + num*(18/100))"
   ]
  },
  {
   "cell_type": "code",
   "execution_count": 76,
   "id": "42ce7acd",
   "metadata": {},
   "outputs": [
    {
     "data": {
      "text/plain": [
       "118.0"
      ]
     },
     "execution_count": 76,
     "metadata": {},
     "output_type": "execute_result"
    }
   ],
   "source": [
    "calc_gst(100)"
   ]
  },
  {
   "cell_type": "code",
   "execution_count": 77,
   "id": "52b6049b",
   "metadata": {},
   "outputs": [],
   "source": [
    "gst_18 = np.frompyfunc(calc_gst, 1, 1)"
   ]
  },
  {
   "cell_type": "code",
   "execution_count": 79,
   "id": "bab6f8ae",
   "metadata": {},
   "outputs": [
    {
     "data": {
      "text/plain": [
       "array([25001,  3445,  9000,   125,  9845])"
      ]
     },
     "execution_count": 79,
     "metadata": {},
     "output_type": "execute_result"
    }
   ],
   "source": [
    "org_price = np.array([25001, 3445, 9000, 125, 9845])\n",
    "org_price"
   ]
  },
  {
   "cell_type": "code",
   "execution_count": null,
   "id": "84ad8c37",
   "metadata": {},
   "outputs": [],
   "source": []
  }
 ],
 "metadata": {
  "kernelspec": {
   "display_name": "Python 3 (ipykernel)",
   "language": "python",
   "name": "python3"
  },
  "language_info": {
   "codemirror_mode": {
    "name": "ipython",
    "version": 3
   },
   "file_extension": ".py",
   "mimetype": "text/x-python",
   "name": "python",
   "nbconvert_exporter": "python",
   "pygments_lexer": "ipython3",
   "version": "3.9.12"
  }
 },
 "nbformat": 4,
 "nbformat_minor": 5
}
