{
 "cells": [
  {
   "cell_type": "code",
   "execution_count": null,
   "id": "bbfb5059",
   "metadata": {},
   "outputs": [],
   "source": [
    "import numpy as np"
   ]
  },
  {
   "cell_type": "code",
   "execution_count": null,
   "id": "f53cf2c6",
   "metadata": {},
   "outputs": [],
   "source": [
    "numpy_array = np.arange(1000000)\n",
    "numpy_array"
   ]
  },
  {
   "cell_type": "code",
   "execution_count": null,
   "id": "56f1eb19",
   "metadata": {},
   "outputs": [],
   "source": [
    "python_list = list(range(1000000))\n",
    "python_list"
   ]
  },
  {
   "cell_type": "code",
   "execution_count": null,
   "id": "095705cf",
   "metadata": {},
   "outputs": [],
   "source": [
    "%time for num in range(100): nitems = numpy_array*2"
   ]
  },
  {
   "cell_type": "code",
   "execution_count": null,
   "id": "0f415538",
   "metadata": {},
   "outputs": [],
   "source": [
    "%time for num in range(100): nitems = python_list*2"
   ]
  },
  {
   "cell_type": "markdown",
   "id": "2af14f24",
   "metadata": {},
   "source": [
    "### Create NumPy Array"
   ]
  },
  {
   "cell_type": "code",
   "execution_count": null,
   "id": "81f3861e",
   "metadata": {},
   "outputs": [],
   "source": [
    "values = np.array([9, 4, 2, 98, 0])\n",
    "values"
   ]
  },
  {
   "cell_type": "code",
   "execution_count": null,
   "id": "a14ab668",
   "metadata": {},
   "outputs": [],
   "source": [
    "values.dtype"
   ]
  },
  {
   "cell_type": "code",
   "execution_count": null,
   "id": "5b2a9722",
   "metadata": {},
   "outputs": [],
   "source": [
    "values[0]"
   ]
  },
  {
   "cell_type": "code",
   "execution_count": null,
   "id": "e0219e06",
   "metadata": {},
   "outputs": [],
   "source": [
    "values[4] = 54\n",
    "values"
   ]
  },
  {
   "cell_type": "code",
   "execution_count": null,
   "id": "9f2ba8ed",
   "metadata": {},
   "outputs": [],
   "source": [
    "values[4] = 28.5\n",
    "values\n",
    "\n",
    "#NumPy supports only same kind of data type"
   ]
  },
  {
   "cell_type": "markdown",
   "id": "fd030810",
   "metadata": {},
   "source": [
    "#### Float"
   ]
  },
  {
   "cell_type": "code",
   "execution_count": null,
   "id": "4527d132",
   "metadata": {},
   "outputs": [],
   "source": [
    "value = np.array([10.2, 11.6, 14.8, 15.7])\n",
    "value"
   ]
  },
  {
   "cell_type": "code",
   "execution_count": null,
   "id": "24de3278",
   "metadata": {},
   "outputs": [],
   "source": [
    "value[1] = 12.6\n",
    "value"
   ]
  },
  {
   "cell_type": "code",
   "execution_count": null,
   "id": "24d32d6e",
   "metadata": {},
   "outputs": [],
   "source": [
    "value.dtype"
   ]
  },
  {
   "cell_type": "markdown",
   "id": "3cd1d1d7",
   "metadata": {},
   "source": [
    "## One dimensional array"
   ]
  },
  {
   "cell_type": "code",
   "execution_count": null,
   "id": "492c4db2",
   "metadata": {},
   "outputs": [],
   "source": [
    "one_dim = np.array([2, 6, 12])\n",
    "one_dim"
   ]
  },
  {
   "cell_type": "code",
   "execution_count": null,
   "id": "94d47435",
   "metadata": {},
   "outputs": [],
   "source": [
    "one_dim.ndim"
   ]
  },
  {
   "cell_type": "code",
   "execution_count": null,
   "id": "fac879b8",
   "metadata": {},
   "outputs": [],
   "source": [
    "one_dim.size"
   ]
  },
  {
   "cell_type": "code",
   "execution_count": null,
   "id": "8725601b",
   "metadata": {},
   "outputs": [],
   "source": [
    "one_dim.shape"
   ]
  },
  {
   "cell_type": "markdown",
   "id": "d7cf7cb3",
   "metadata": {},
   "source": [
    "## Two dimensional array"
   ]
  },
  {
   "cell_type": "code",
   "execution_count": null,
   "id": "9861fad0",
   "metadata": {},
   "outputs": [],
   "source": [
    "two_dim = np.array([\n",
    "    [5, 10, 12],\n",
    "    [9, 3, 1],\n",
    "    [34, 8, 12]\n",
    "])\n",
    "\n",
    "two_dim"
   ]
  },
  {
   "cell_type": "code",
   "execution_count": null,
   "id": "1348808a",
   "metadata": {},
   "outputs": [],
   "source": [
    "two_dim.ndim"
   ]
  },
  {
   "cell_type": "code",
   "execution_count": null,
   "id": "daf1dd3b",
   "metadata": {},
   "outputs": [],
   "source": [
    "two_dim.shape"
   ]
  },
  {
   "cell_type": "code",
   "execution_count": null,
   "id": "d901c9cf",
   "metadata": {},
   "outputs": [],
   "source": [
    "two_dim.size"
   ]
  },
  {
   "cell_type": "markdown",
   "id": "47515cf8",
   "metadata": {},
   "source": [
    "## Three dimensional array"
   ]
  },
  {
   "cell_type": "code",
   "execution_count": null,
   "id": "26aff722",
   "metadata": {},
   "outputs": [],
   "source": [
    "three_dim = np.array([\n",
    "    [\n",
    "        [1, 2, 3],\n",
    "        [4, 5, 6]\n",
    "    ],\n",
    "    [\n",
    "        [7, 8, 9],\n",
    "        [10, 11, 12]\n",
    "    ]\n",
    "])\n",
    "\n",
    "three_dim"
   ]
  },
  {
   "cell_type": "code",
   "execution_count": null,
   "id": "4402ed03",
   "metadata": {},
   "outputs": [],
   "source": [
    "three_dim.ndim"
   ]
  },
  {
   "cell_type": "code",
   "execution_count": null,
   "id": "8b2bfd39",
   "metadata": {},
   "outputs": [],
   "source": [
    "three_dim.size"
   ]
  },
  {
   "cell_type": "code",
   "execution_count": null,
   "id": "e6e628ee",
   "metadata": {},
   "outputs": [],
   "source": [
    "three_dim.shape"
   ]
  },
  {
   "cell_type": "code",
   "execution_count": null,
   "id": "2d259985",
   "metadata": {},
   "outputs": [],
   "source": [
    "import numpy as np"
   ]
  },
  {
   "cell_type": "code",
   "execution_count": null,
   "id": "bb921a38",
   "metadata": {},
   "outputs": [],
   "source": [
    "i_list = [1, 2, 3, 4, 5]\n",
    "i_list"
   ]
  },
  {
   "cell_type": "code",
   "execution_count": null,
   "id": "9a024fd1",
   "metadata": {},
   "outputs": [],
   "source": [
    "t_tuple = (6, 7, 8, 9, 10)\n",
    "t_tuple"
   ]
  },
  {
   "cell_type": "code",
   "execution_count": null,
   "id": "62f05a2d",
   "metadata": {},
   "outputs": [],
   "source": [
    "array_list = np.array(i_list)\n",
    "array_list"
   ]
  },
  {
   "cell_type": "code",
   "execution_count": null,
   "id": "44b00123",
   "metadata": {},
   "outputs": [],
   "source": [
    "array_tuple = np.array(t_tuple)\n",
    "array_tuple"
   ]
  },
  {
   "cell_type": "code",
   "execution_count": null,
   "id": "48aede0c",
   "metadata": {},
   "outputs": [],
   "source": [
    "array_list.dtype"
   ]
  },
  {
   "cell_type": "code",
   "execution_count": null,
   "id": "2ae24889",
   "metadata": {},
   "outputs": [],
   "source": [
    "array_tuple.dtype"
   ]
  },
  {
   "cell_type": "code",
   "execution_count": null,
   "id": "96acaaa8",
   "metadata": {},
   "outputs": [],
   "source": [
    "item = np.arange(10)\n",
    "item"
   ]
  },
  {
   "cell_type": "code",
   "execution_count": null,
   "id": "c38173aa",
   "metadata": {},
   "outputs": [],
   "source": [
    "items = np.arange(1,15)\n",
    "items"
   ]
  },
  {
   "cell_type": "code",
   "execution_count": null,
   "id": "e37336a1",
   "metadata": {},
   "outputs": [],
   "source": [
    "items = np.arange(1,50,10)\n",
    "items"
   ]
  },
  {
   "cell_type": "code",
   "execution_count": null,
   "id": "9351001c",
   "metadata": {},
   "outputs": [],
   "source": [
    "items = np.linspace(1,10)\n",
    "items"
   ]
  },
  {
   "cell_type": "code",
   "execution_count": null,
   "id": "489f9323",
   "metadata": {},
   "outputs": [],
   "source": [
    "items = np.linspace(1,10,5)\n",
    "items"
   ]
  },
  {
   "cell_type": "code",
   "execution_count": null,
   "id": "9bfc94dd",
   "metadata": {},
   "outputs": [],
   "source": [
    "items = np.random.randint(1,10)\n",
    "items"
   ]
  },
  {
   "cell_type": "code",
   "execution_count": null,
   "id": "928f8605",
   "metadata": {},
   "outputs": [],
   "source": [
    "items = np.random.randint(1,10,5)\n",
    "items"
   ]
  },
  {
   "cell_type": "code",
   "execution_count": null,
   "id": "9e3a4c88",
   "metadata": {},
   "outputs": [],
   "source": [
    "item = np.zeros(4)\n",
    "item"
   ]
  },
  {
   "cell_type": "code",
   "execution_count": null,
   "id": "0f633970",
   "metadata": {},
   "outputs": [],
   "source": [
    "item = np.ones(5)\n",
    "item"
   ]
  },
  {
   "cell_type": "code",
   "execution_count": null,
   "id": "94e17ad5",
   "metadata": {},
   "outputs": [],
   "source": [
    "items = np.empty(4)\n",
    "items"
   ]
  },
  {
   "cell_type": "code",
   "execution_count": null,
   "id": "bf85879b",
   "metadata": {},
   "outputs": [],
   "source": [
    "item = np.empty(5, dtype = int)\n",
    "item"
   ]
  },
  {
   "cell_type": "code",
   "execution_count": null,
   "id": "ddb2bc35",
   "metadata": {},
   "outputs": [],
   "source": [
    "items = np.empty(3, dtype = int)\n",
    "items"
   ]
  },
  {
   "cell_type": "code",
   "execution_count": null,
   "id": "fca9d34d",
   "metadata": {},
   "outputs": [],
   "source": [
    "items.fill(4)\n",
    "items"
   ]
  },
  {
   "cell_type": "code",
   "execution_count": null,
   "id": "fc0c89f4",
   "metadata": {},
   "outputs": [],
   "source": [
    "items = np.full(5,4)\n",
    "items"
   ]
  },
  {
   "cell_type": "code",
   "execution_count": null,
   "id": "972fd1db",
   "metadata": {},
   "outputs": [],
   "source": [
    "items = np.full((5,2), 4)\n",
    "items"
   ]
  },
  {
   "cell_type": "code",
   "execution_count": 1,
   "id": "e0306c4e",
   "metadata": {},
   "outputs": [],
   "source": [
    "import numpy as np"
   ]
  },
  {
   "cell_type": "code",
   "execution_count": 2,
   "id": "3fe255b9",
   "metadata": {},
   "outputs": [],
   "source": [
    "items = np.array([10,30,40,50])"
   ]
  },
  {
   "cell_type": "code",
   "execution_count": 3,
   "id": "52dc0b22",
   "metadata": {},
   "outputs": [
    {
     "data": {
      "text/plain": [
       "array([10, 20, 30, 40, 50])"
      ]
     },
     "execution_count": 3,
     "metadata": {},
     "output_type": "execute_result"
    }
   ],
   "source": [
    "items = np.insert(items,1,20)\n",
    "items"
   ]
  },
  {
   "cell_type": "code",
   "execution_count": 4,
   "id": "6ae96b63",
   "metadata": {
    "scrolled": true
   },
   "outputs": [
    {
     "data": {
      "text/plain": [
       "array([10, 20, 30, 40, 50, 60])"
      ]
     },
     "execution_count": 4,
     "metadata": {},
     "output_type": "execute_result"
    }
   ],
   "source": [
    "items = np.append(items,60)\n",
    "items"
   ]
  },
  {
   "cell_type": "code",
   "execution_count": 7,
   "id": "b1a279c6",
   "metadata": {},
   "outputs": [
    {
     "data": {
      "text/plain": [
       "array([10, 20, 30, 40, 50, 60])"
      ]
     },
     "execution_count": 7,
     "metadata": {},
     "output_type": "execute_result"
    }
   ],
   "source": [
    "items"
   ]
  },
  {
   "cell_type": "code",
   "execution_count": 9,
   "id": "70a9f8ae",
   "metadata": {},
   "outputs": [
    {
     "data": {
      "text/plain": [
       "array([10, 20, 30, 40, 50])"
      ]
     },
     "execution_count": 9,
     "metadata": {},
     "output_type": "execute_result"
    }
   ],
   "source": [
    "items = np.delete(items,5)\n",
    "items"
   ]
  },
  {
   "cell_type": "code",
   "execution_count": 14,
   "id": "d31849da",
   "metadata": {},
   "outputs": [
    {
     "data": {
      "text/plain": [
       "array([[ 9,  8,  6,  2],\n",
       "       [10,  4,  3, 58]])"
      ]
     },
     "execution_count": 14,
     "metadata": {},
     "output_type": "execute_result"
    }
   ],
   "source": [
    "items_2d = np.array([[9, 8, 6, 2], [10, 4, 3, 58]])\n",
    "items_2d"
   ]
  },
  {
   "cell_type": "code",
   "execution_count": 15,
   "id": "f9f8fa75",
   "metadata": {},
   "outputs": [
    {
     "data": {
      "text/plain": [
       "array([[ 2,  6,  8,  9],\n",
       "       [ 3,  4, 10, 58]])"
      ]
     },
     "execution_count": 15,
     "metadata": {},
     "output_type": "execute_result"
    }
   ],
   "source": [
    "items_2d = np.sort(items_2d)\n",
    "items_2d"
   ]
  },
  {
   "cell_type": "code",
   "execution_count": 16,
   "id": "5b8cb179",
   "metadata": {},
   "outputs": [
    {
     "data": {
      "text/plain": [
       "array([10, 25, 46, 57])"
      ]
     },
     "execution_count": 16,
     "metadata": {},
     "output_type": "execute_result"
    }
   ],
   "source": [
    "items = np.array([10, 25, 46, 57])\n",
    "items"
   ]
  },
  {
   "cell_type": "code",
   "execution_count": 17,
   "id": "847bfb8f",
   "metadata": {},
   "outputs": [
    {
     "data": {
      "text/plain": [
       "array([10, 25, 46, 57])"
      ]
     },
     "execution_count": 17,
     "metadata": {},
     "output_type": "execute_result"
    }
   ],
   "source": [
    "items_copy = items.copy()\n",
    "items_copy"
   ]
  },
  {
   "cell_type": "code",
   "execution_count": 18,
   "id": "e5624a4d",
   "metadata": {},
   "outputs": [
    {
     "data": {
      "text/plain": [
       "10"
      ]
     },
     "execution_count": 18,
     "metadata": {},
     "output_type": "execute_result"
    }
   ],
   "source": [
    "items_copy[0]"
   ]
  },
  {
   "cell_type": "code",
   "execution_count": 19,
   "id": "e6ac452d",
   "metadata": {},
   "outputs": [],
   "source": [
    "items_copy[0] = 100"
   ]
  },
  {
   "cell_type": "code",
   "execution_count": 20,
   "id": "97be35cb",
   "metadata": {},
   "outputs": [
    {
     "data": {
      "text/plain": [
       "array([100,  25,  46,  57])"
      ]
     },
     "execution_count": 20,
     "metadata": {},
     "output_type": "execute_result"
    }
   ],
   "source": [
    "items_copy"
   ]
  },
  {
   "cell_type": "code",
   "execution_count": 21,
   "id": "9a5abff8",
   "metadata": {},
   "outputs": [
    {
     "data": {
      "text/plain": [
       "array([10, 25, 46, 57])"
      ]
     },
     "execution_count": 21,
     "metadata": {},
     "output_type": "execute_result"
    }
   ],
   "source": [
    "items"
   ]
  },
  {
   "cell_type": "code",
   "execution_count": 22,
   "id": "edb96d81",
   "metadata": {},
   "outputs": [
    {
     "data": {
      "text/plain": [
       "array([10, 25, 46, 57])"
      ]
     },
     "execution_count": 22,
     "metadata": {},
     "output_type": "execute_result"
    }
   ],
   "source": [
    "ref_items = items\n",
    "ref_items"
   ]
  },
  {
   "cell_type": "code",
   "execution_count": 23,
   "id": "8913cbab",
   "metadata": {},
   "outputs": [
    {
     "data": {
      "text/plain": [
       "10"
      ]
     },
     "execution_count": 23,
     "metadata": {},
     "output_type": "execute_result"
    }
   ],
   "source": [
    "ref_items[0]"
   ]
  },
  {
   "cell_type": "code",
   "execution_count": 24,
   "id": "74ff6ecf",
   "metadata": {},
   "outputs": [],
   "source": [
    "ref_items[0] = 100"
   ]
  },
  {
   "cell_type": "code",
   "execution_count": 25,
   "id": "d8048c8e",
   "metadata": {},
   "outputs": [
    {
     "data": {
      "text/plain": [
       "array([100,  25,  46,  57])"
      ]
     },
     "execution_count": 25,
     "metadata": {},
     "output_type": "execute_result"
    }
   ],
   "source": [
    "ref_items"
   ]
  },
  {
   "cell_type": "code",
   "execution_count": 26,
   "id": "55767e40",
   "metadata": {},
   "outputs": [
    {
     "data": {
      "text/plain": [
       "100"
      ]
     },
     "execution_count": 26,
     "metadata": {},
     "output_type": "execute_result"
    }
   ],
   "source": [
    "items[0]"
   ]
  },
  {
   "cell_type": "code",
   "execution_count": 27,
   "id": "e46f6779",
   "metadata": {},
   "outputs": [
    {
     "data": {
      "text/plain": [
       "array([10, 25, 46, 57])"
      ]
     },
     "execution_count": 27,
     "metadata": {},
     "output_type": "execute_result"
    }
   ],
   "source": [
    "items[0] = 10\n",
    "items"
   ]
  },
  {
   "cell_type": "code",
   "execution_count": 28,
   "id": "87b7b42a",
   "metadata": {},
   "outputs": [
    {
     "data": {
      "text/plain": [
       "array([10, 25, 46, 57])"
      ]
     },
     "execution_count": 28,
     "metadata": {},
     "output_type": "execute_result"
    }
   ],
   "source": [
    "ref_items"
   ]
  },
  {
   "cell_type": "code",
   "execution_count": 29,
   "id": "303adc83",
   "metadata": {},
   "outputs": [
    {
     "data": {
      "text/plain": [
       "array([ 1,  2,  3,  4,  5,  6,  7,  8,  9, 10, 11, 12, 13, 14, 15, 16, 17,\n",
       "       18, 19, 20, 21, 22, 23, 24])"
      ]
     },
     "execution_count": 29,
     "metadata": {},
     "output_type": "execute_result"
    }
   ],
   "source": [
    "items = np.arange(1,25)\n",
    "items"
   ]
  },
  {
   "cell_type": "code",
   "execution_count": 33,
   "id": "2027c91f",
   "metadata": {},
   "outputs": [
    {
     "data": {
      "text/plain": [
       "array([[ 1,  2,  3,  4,  5,  6],\n",
       "       [ 7,  8,  9, 10, 11, 12],\n",
       "       [13, 14, 15, 16, 17, 18],\n",
       "       [19, 20, 21, 22, 23, 24]])"
      ]
     },
     "execution_count": 33,
     "metadata": {},
     "output_type": "execute_result"
    }
   ],
   "source": [
    "np.reshape(items, (4,6))"
   ]
  },
  {
   "cell_type": "code",
   "execution_count": 34,
   "id": "34e2098a",
   "metadata": {},
   "outputs": [
    {
     "data": {
      "text/plain": [
       "array([[[ 1,  2],\n",
       "        [ 3,  4],\n",
       "        [ 5,  6],\n",
       "        [ 7,  8]],\n",
       "\n",
       "       [[ 9, 10],\n",
       "        [11, 12],\n",
       "        [13, 14],\n",
       "        [15, 16]],\n",
       "\n",
       "       [[17, 18],\n",
       "        [19, 20],\n",
       "        [21, 22],\n",
       "        [23, 24]]])"
      ]
     },
     "execution_count": 34,
     "metadata": {},
     "output_type": "execute_result"
    }
   ],
   "source": [
    "np.reshape(items, (3,4,2))"
   ]
  },
  {
   "cell_type": "code",
   "execution_count": 35,
   "id": "cba0cf0c",
   "metadata": {},
   "outputs": [
    {
     "data": {
      "text/plain": [
       "array([ 1,  2,  3,  4,  5,  6,  7,  8,  9, 10, 11, 12, 13, 14, 15, 16, 17,\n",
       "       18, 19, 20, 21, 22, 23, 24])"
      ]
     },
     "execution_count": 35,
     "metadata": {},
     "output_type": "execute_result"
    }
   ],
   "source": [
    "items_flat = items.flatten()\n",
    "items_flat"
   ]
  },
  {
   "cell_type": "code",
   "execution_count": 40,
   "id": "0c250c05",
   "metadata": {},
   "outputs": [
    {
     "data": {
      "text/plain": [
       "array([ 1,  2,  3,  4,  5,  6,  7,  8,  9, 10])"
      ]
     },
     "execution_count": 40,
     "metadata": {},
     "output_type": "execute_result"
    }
   ],
   "source": [
    "pack_01 = np.arange(1,11)\n",
    "pack_01"
   ]
  },
  {
   "cell_type": "code",
   "execution_count": 41,
   "id": "42d93cba",
   "metadata": {},
   "outputs": [
    {
     "data": {
      "text/plain": [
       "array([11, 12, 13, 14, 15, 16, 17, 18, 19, 20])"
      ]
     },
     "execution_count": 41,
     "metadata": {},
     "output_type": "execute_result"
    }
   ],
   "source": [
    "pack_02 = np.arange(11,21)\n",
    "pack_02"
   ]
  },
  {
   "cell_type": "code",
   "execution_count": 42,
   "id": "fa31f4e9",
   "metadata": {},
   "outputs": [
    {
     "data": {
      "text/plain": [
       "array([ 1,  2,  3,  4,  5,  6,  7,  8,  9, 10, 11, 12, 13, 14, 15, 16, 17,\n",
       "       18, 19, 20])"
      ]
     },
     "execution_count": 42,
     "metadata": {},
     "output_type": "execute_result"
    }
   ],
   "source": [
    "pack_con = np.concatenate((pack_01,pack_02))\n",
    "pack_con"
   ]
  },
  {
   "cell_type": "code",
   "execution_count": 43,
   "id": "d10d917b",
   "metadata": {},
   "outputs": [
    {
     "data": {
      "text/plain": [
       "array([[ 1,  2,  3,  4,  5],\n",
       "       [ 6,  7,  8,  9, 10]])"
      ]
     },
     "execution_count": 43,
     "metadata": {},
     "output_type": "execute_result"
    }
   ],
   "source": [
    "pack_01 = np.reshape(pack_01, (2,5))\n",
    "pack_01"
   ]
  },
  {
   "cell_type": "code",
   "execution_count": 44,
   "id": "d2dd2047",
   "metadata": {},
   "outputs": [
    {
     "data": {
      "text/plain": [
       "array([[11, 12, 13, 14, 15],\n",
       "       [16, 17, 18, 19, 20]])"
      ]
     },
     "execution_count": 44,
     "metadata": {},
     "output_type": "execute_result"
    }
   ],
   "source": [
    "pack_02 = np.reshape(pack_02, (2,5))\n",
    "pack_02"
   ]
  },
  {
   "cell_type": "code",
   "execution_count": 45,
   "id": "f9c577e0",
   "metadata": {},
   "outputs": [
    {
     "data": {
      "text/plain": [
       "array([[ 1,  2,  3,  4,  5],\n",
       "       [ 6,  7,  8,  9, 10],\n",
       "       [11, 12, 13, 14, 15],\n",
       "       [16, 17, 18, 19, 20]])"
      ]
     },
     "execution_count": 45,
     "metadata": {},
     "output_type": "execute_result"
    }
   ],
   "source": [
    "pack_con = np.concatenate((pack_01,pack_02))\n",
    "pack_con"
   ]
  },
  {
   "cell_type": "code",
   "execution_count": 46,
   "id": "0fd9aa6e",
   "metadata": {},
   "outputs": [
    {
     "data": {
      "text/plain": [
       "array([[ 1,  2,  3,  4,  5, 11, 12, 13, 14, 15],\n",
       "       [ 6,  7,  8,  9, 10, 16, 17, 18, 19, 20]])"
      ]
     },
     "execution_count": 46,
     "metadata": {},
     "output_type": "execute_result"
    }
   ],
   "source": [
    "pack_con = np.concatenate((pack_01,pack_02), axis=1)\n",
    "pack_con"
   ]
  },
  {
   "cell_type": "code",
   "execution_count": 48,
   "id": "1f5e32ee",
   "metadata": {},
   "outputs": [
    {
     "data": {
      "text/plain": [
       "array([ 1,  2,  3,  4,  5,  6,  7,  8,  9, 10])"
      ]
     },
     "execution_count": 48,
     "metadata": {},
     "output_type": "execute_result"
    }
   ],
   "source": [
    "pack_01 = np.arange(1,11)\n",
    "pack_01"
   ]
  },
  {
   "cell_type": "code",
   "execution_count": 49,
   "id": "2b6cda94",
   "metadata": {},
   "outputs": [
    {
     "data": {
      "text/plain": [
       "array([11, 12, 13, 14, 15, 16, 17, 18, 19, 20])"
      ]
     },
     "execution_count": 49,
     "metadata": {},
     "output_type": "execute_result"
    }
   ],
   "source": [
    "pack_02 = np.arange(11,21)\n",
    "pack_02"
   ]
  },
  {
   "cell_type": "code",
   "execution_count": 50,
   "id": "ce4153e5",
   "metadata": {},
   "outputs": [
    {
     "data": {
      "text/plain": [
       "array([[ 1,  2,  3,  4,  5,  6,  7,  8,  9, 10],\n",
       "       [11, 12, 13, 14, 15, 16, 17, 18, 19, 20]])"
      ]
     },
     "execution_count": 50,
     "metadata": {},
     "output_type": "execute_result"
    }
   ],
   "source": [
    "pack_stack = np.stack((pack_01,pack_02))\n",
    "pack_stack"
   ]
  },
  {
   "cell_type": "code",
   "execution_count": 51,
   "id": "61025731",
   "metadata": {},
   "outputs": [
    {
     "data": {
      "text/plain": [
       "array([ 1,  2,  3,  4,  5,  6,  7,  8,  9, 10, 11, 12, 13, 14, 15, 16, 17,\n",
       "       18, 19, 20])"
      ]
     },
     "execution_count": 51,
     "metadata": {},
     "output_type": "execute_result"
    }
   ],
   "source": [
    "pack_hstack = np.hstack((pack_01,pack_02))\n",
    "pack_hstack"
   ]
  },
  {
   "cell_type": "code",
   "execution_count": 52,
   "id": "fb88c887",
   "metadata": {},
   "outputs": [
    {
     "data": {
      "text/plain": [
       "array([[ 1,  2,  3,  4,  5,  6,  7,  8,  9, 10],\n",
       "       [11, 12, 13, 14, 15, 16, 17, 18, 19, 20]])"
      ]
     },
     "execution_count": 52,
     "metadata": {},
     "output_type": "execute_result"
    }
   ],
   "source": [
    "pack_vstack = np.vstack((pack_01,pack_02))\n",
    "pack_vstack"
   ]
  },
  {
   "cell_type": "code",
   "execution_count": 53,
   "id": "ff6321e6",
   "metadata": {},
   "outputs": [
    {
     "data": {
      "text/plain": [
       "array([ 1,  2,  3,  4,  5,  6,  7,  8,  9, 10])"
      ]
     },
     "execution_count": 53,
     "metadata": {},
     "output_type": "execute_result"
    }
   ],
   "source": [
    "pack_01"
   ]
  },
  {
   "cell_type": "code",
   "execution_count": 54,
   "id": "e1c52757",
   "metadata": {},
   "outputs": [
    {
     "data": {
      "text/plain": [
       "[array([1, 2, 3, 4]), array([5, 6, 7]), array([ 8,  9, 10])]"
      ]
     },
     "execution_count": 54,
     "metadata": {},
     "output_type": "execute_result"
    }
   ],
   "source": [
    "pack_split = np.array_split(pack_01,3)\n",
    "pack_split"
   ]
  },
  {
   "cell_type": "code",
   "execution_count": 55,
   "id": "d67e45e4",
   "metadata": {},
   "outputs": [
    {
     "data": {
      "text/plain": [
       "[array([1, 2, 3, 4, 5]), array([ 6,  7,  8,  9, 10])]"
      ]
     },
     "execution_count": 55,
     "metadata": {},
     "output_type": "execute_result"
    }
   ],
   "source": [
    "pack_split = np.array_split(pack_01,2)\n",
    "pack_split"
   ]
  },
  {
   "cell_type": "code",
   "execution_count": 56,
   "id": "63da4052",
   "metadata": {},
   "outputs": [
    {
     "data": {
      "text/plain": [
       "array([1, 2, 3, 4, 5])"
      ]
     },
     "execution_count": 56,
     "metadata": {},
     "output_type": "execute_result"
    }
   ],
   "source": [
    "a = np.arange(1,6)\n",
    "a"
   ]
  },
  {
   "cell_type": "code",
   "execution_count": 57,
   "id": "05324af4",
   "metadata": {},
   "outputs": [
    {
     "data": {
      "text/plain": [
       "array([ 7,  8,  9, 10, 11])"
      ]
     },
     "execution_count": 57,
     "metadata": {},
     "output_type": "execute_result"
    }
   ],
   "source": [
    "b = np.arange(7,12)\n",
    "b"
   ]
  },
  {
   "cell_type": "code",
   "execution_count": 58,
   "id": "4dfd8b04",
   "metadata": {},
   "outputs": [
    {
     "data": {
      "text/plain": [
       "array([ 8, 10, 12, 14, 16])"
      ]
     },
     "execution_count": 58,
     "metadata": {},
     "output_type": "execute_result"
    }
   ],
   "source": [
    "np.add(a,b)"
   ]
  },
  {
   "cell_type": "code",
   "execution_count": 59,
   "id": "aa4b9f54",
   "metadata": {},
   "outputs": [
    {
     "data": {
      "text/plain": [
       "array([-6, -6, -6, -6, -6])"
      ]
     },
     "execution_count": 59,
     "metadata": {},
     "output_type": "execute_result"
    }
   ],
   "source": [
    "np.subtract(a,b)"
   ]
  },
  {
   "cell_type": "code",
   "execution_count": 60,
   "id": "a72a9fcc",
   "metadata": {},
   "outputs": [
    {
     "data": {
      "text/plain": [
       "array([6, 6, 6, 6, 6])"
      ]
     },
     "execution_count": 60,
     "metadata": {},
     "output_type": "execute_result"
    }
   ],
   "source": [
    "np.subtract(b,a)"
   ]
  },
  {
   "cell_type": "code",
   "execution_count": 61,
   "id": "0a6ae674",
   "metadata": {},
   "outputs": [
    {
     "data": {
      "text/plain": [
       "array([ 7, 16, 27, 40, 55])"
      ]
     },
     "execution_count": 61,
     "metadata": {},
     "output_type": "execute_result"
    }
   ],
   "source": [
    "np.multiply(a,b)"
   ]
  },
  {
   "cell_type": "code",
   "execution_count": 62,
   "id": "9bc10b33",
   "metadata": {},
   "outputs": [
    {
     "data": {
      "text/plain": [
       "array([0.14285714, 0.25      , 0.33333333, 0.4       , 0.45454545])"
      ]
     },
     "execution_count": 62,
     "metadata": {},
     "output_type": "execute_result"
    }
   ],
   "source": [
    "np.divide(a,b)"
   ]
  },
  {
   "cell_type": "code",
   "execution_count": 63,
   "id": "07de8b25",
   "metadata": {},
   "outputs": [
    {
     "data": {
      "text/plain": [
       "array([1, 2, 3, 4, 5], dtype=int32)"
      ]
     },
     "execution_count": 63,
     "metadata": {},
     "output_type": "execute_result"
    }
   ],
   "source": [
    "np.mod(a,b)"
   ]
  },
  {
   "cell_type": "code",
   "execution_count": 64,
   "id": "97b188f4",
   "metadata": {},
   "outputs": [
    {
     "data": {
      "text/plain": [
       "array([1.        , 1.41421356, 1.73205081, 2.        , 2.23606798])"
      ]
     },
     "execution_count": 64,
     "metadata": {},
     "output_type": "execute_result"
    }
   ],
   "source": [
    "np.sqrt(a)"
   ]
  },
  {
   "cell_type": "code",
   "execution_count": 65,
   "id": "9e8c33e9",
   "metadata": {},
   "outputs": [
    {
     "data": {
      "text/plain": [
       "array([[0, 1, 2],\n",
       "       [3, 4, 5],\n",
       "       [6, 7, 8]])"
      ]
     },
     "execution_count": 65,
     "metadata": {},
     "output_type": "execute_result"
    }
   ],
   "source": [
    "items = np.arange(9).reshape(3,3)\n",
    "items"
   ]
  },
  {
   "cell_type": "code",
   "execution_count": 66,
   "id": "382d3089",
   "metadata": {},
   "outputs": [
    {
     "data": {
      "text/plain": [
       "array([[2, 1, 0],\n",
       "       [5, 4, 3],\n",
       "       [8, 7, 6]])"
      ]
     },
     "execution_count": 66,
     "metadata": {},
     "output_type": "execute_result"
    }
   ],
   "source": [
    "np.flip(items,1)"
   ]
  },
  {
   "cell_type": "code",
   "execution_count": 67,
   "id": "d610771d",
   "metadata": {},
   "outputs": [
    {
     "data": {
      "text/plain": [
       "array([[8, 7, 6],\n",
       "       [5, 4, 3],\n",
       "       [2, 1, 0]])"
      ]
     },
     "execution_count": 67,
     "metadata": {},
     "output_type": "execute_result"
    }
   ],
   "source": [
    "np.flip(items)"
   ]
  },
  {
   "cell_type": "raw",
   "id": "82c2e5b1",
   "metadata": {},
   "source": [
    "first_array = np.arange(16).reshape(4,4)\n",
    "first_array"
   ]
  },
  {
   "cell_type": "code",
   "execution_count": 69,
   "id": "ddc8e74f",
   "metadata": {},
   "outputs": [
    {
     "data": {
      "text/plain": [
       "matrix([[ 0,  1,  2,  3],\n",
       "        [ 4,  5,  6,  7],\n",
       "        [ 8,  9, 10, 11],\n",
       "        [12, 13, 14, 15]])"
      ]
     },
     "execution_count": 69,
     "metadata": {},
     "output_type": "execute_result"
    }
   ],
   "source": [
    "first_matrix = np.matrix(first_array)\n",
    "first_matrix"
   ]
  },
  {
   "cell_type": "code",
   "execution_count": 70,
   "id": "2b671506",
   "metadata": {},
   "outputs": [
    {
     "data": {
      "text/plain": [
       "matrix([[1., 0., 0., 0.],\n",
       "        [0., 1., 0., 0.],\n",
       "        [0., 0., 1., 0.],\n",
       "        [0., 0., 0., 1.]])"
      ]
     },
     "execution_count": 70,
     "metadata": {},
     "output_type": "execute_result"
    }
   ],
   "source": [
    "second_matrix = np.matrix(np.identity(4))\n",
    "second_matrix"
   ]
  },
  {
   "cell_type": "code",
   "execution_count": 71,
   "id": "fa83b3e4",
   "metadata": {},
   "outputs": [
    {
     "data": {
      "text/plain": [
       "array([[4, 0, 2],\n",
       "       [1, 2, 2]])"
      ]
     },
     "execution_count": 71,
     "metadata": {},
     "output_type": "execute_result"
    }
   ],
   "source": [
    "matrix_a = np.random.randint(5, size=(2,3))\n",
    "matrix_a"
   ]
  },
  {
   "cell_type": "code",
   "execution_count": 73,
   "id": "cf8b2f60",
   "metadata": {},
   "outputs": [
    {
     "data": {
      "text/plain": [
       "array([[4, 3],\n",
       "       [4, 2],\n",
       "       [0, 0]])"
      ]
     },
     "execution_count": 73,
     "metadata": {},
     "output_type": "execute_result"
    }
   ],
   "source": [
    "matrix_b = np.random.randint(5, size=(3,2))\n",
    "matrix_b"
   ]
  },
  {
   "cell_type": "code",
   "execution_count": 74,
   "id": "d4f7e660",
   "metadata": {},
   "outputs": [
    {
     "data": {
      "text/plain": [
       "array([[16, 12],\n",
       "       [12,  7]])"
      ]
     },
     "execution_count": 74,
     "metadata": {},
     "output_type": "execute_result"
    }
   ],
   "source": [
    "np.matmul(matrix_a,matrix_b)"
   ]
  },
  {
   "cell_type": "code",
   "execution_count": 75,
   "id": "a17c24e5",
   "metadata": {},
   "outputs": [],
   "source": [
    "def calc_gst(num):\n",
    "    return (num + num*(18/100))"
   ]
  },
  {
   "cell_type": "code",
   "execution_count": 76,
   "id": "219570c0",
   "metadata": {},
   "outputs": [
    {
     "data": {
      "text/plain": [
       "118.0"
      ]
     },
     "execution_count": 76,
     "metadata": {},
     "output_type": "execute_result"
    }
   ],
   "source": [
    "calc_gst(100)"
   ]
  },
  {
   "cell_type": "code",
   "execution_count": 77,
   "id": "e66bda9d",
   "metadata": {},
   "outputs": [],
   "source": [
    "gst_18 = np.frompyfunc(calc_gst, 1, 1)"
   ]
  },
  {
   "cell_type": "code",
   "execution_count": 79,
   "id": "b0d1515a",
   "metadata": {},
   "outputs": [
    {
     "data": {
      "text/plain": [
       "array([25001,  3445,  9000,   125,  9845])"
      ]
     },
     "execution_count": 79,
     "metadata": {},
     "output_type": "execute_result"
    }
   ],
   "source": [
    "org_price = np.array([25001, 3445, 9000, 125, 9845])\n",
    "org_price"
   ]
  },
  {
   "cell_type": "code",
   "execution_count": 80,
   "id": "061ed1e7",
   "metadata": {},
   "outputs": [
    {
     "data": {
      "text/plain": [
       "array([29501.18, 4065.1, 10620.0, 147.5, 11617.1], dtype=object)"
      ]
     },
     "execution_count": 80,
     "metadata": {},
     "output_type": "execute_result"
    }
   ],
   "source": [
    "tax_price = gst_18(org_price)\n",
    "tax_price"
   ]
  },
  {
   "cell_type": "code",
   "execution_count": null,
   "id": "feeebd42",
   "metadata": {},
   "outputs": [],
   "source": []
  }
 ],
 "metadata": {
  "kernelspec": {
   "display_name": "Python 3 (ipykernel)",
   "language": "python",
   "name": "python3"
  },
  "language_info": {
   "codemirror_mode": {
    "name": "ipython",
    "version": 3
   },
   "file_extension": ".py",
   "mimetype": "text/x-python",
   "name": "python",
   "nbconvert_exporter": "python",
   "pygments_lexer": "ipython3",
   "version": "3.9.12"
  }
 },
 "nbformat": 4,
 "nbformat_minor": 5
}
