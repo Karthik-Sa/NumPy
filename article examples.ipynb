{
 "cells": [
  {
   "cell_type": "code",
   "execution_count": 1,
   "id": "ee22ae50",
   "metadata": {},
   "outputs": [
    {
     "name": "stdout",
     "output_type": "stream",
     "text": [
      "The mean temperature is 71.85714285714286 degrees.\n"
     ]
    }
   ],
   "source": [
    "import numpy as np\n",
    "\n",
    "temperatures = np.array([72, 75, 68, 70, 74, 73, 71])\n",
    "mean_temperature = np.mean(temperatures)\n",
    "\n",
    "print(f\"The mean temperature is {mean_temperature} degrees.\")"
   ]
  },
  {
   "cell_type": "code",
   "execution_count": 2,
   "id": "19c070f0",
   "metadata": {},
   "outputs": [
    {
     "name": "stdout",
     "output_type": "stream",
     "text": [
      "The median house price is $300000.0.\n"
     ]
    }
   ],
   "source": [
    "import numpy as np\n",
    "\n",
    "prices = np.array([250000, 275000, 310000, 425000, 725000, 290000])\n",
    "median_price = np.median(prices)\n",
    "\n",
    "print(f\"The median house price is ${median_price}.\")"
   ]
  },
  {
   "cell_type": "code",
   "execution_count": 3,
   "id": "4b3e4945",
   "metadata": {},
   "outputs": [
    {
     "name": "stdout",
     "output_type": "stream",
     "text": [
      "The mode of the dataset is: 2\n",
      "It occurs 3 times.\n"
     ]
    }
   ],
   "source": [
    "import numpy as np\n",
    "from scipy import stats  # Import the stats module for mode calculation\n",
    "\n",
    "# Sample dataset\n",
    "data = np.array([2, 3, 4, 5, 3, 4, 6, 5, 5, 2, 7, 7, 2])\n",
    "\n",
    "# Calculate the mode using the stats module from SciPy\n",
    "mode_result = stats.mode(data)\n",
    "\n",
    "print(f\"The mode of the dataset is: {mode_result.mode[0]}\")\n",
    "print(f\"It occurs {mode_result.count[0]} times.\")\n",
    "import numpy as np\n",
    "\n",
    "returns = np.array([0.02, 0.03, -0.01, -0.02, 0.01])\n",
    "variance = np.var(returns)\n",
    "std_deviation = np.std(returns)\n",
    "print(f\"Variance: {variance}, Standard Deviation: {std_deviation}\")\n"
   ]
  },
  {
   "cell_type": "code",
   "execution_count": 4,
   "id": "4fb0546c",
   "metadata": {},
   "outputs": [
    {
     "name": "stdout",
     "output_type": "stream",
     "text": [
      "Minimum score: 63, Maximum score: 100\n"
     ]
    }
   ],
   "source": [
    "import numpy as np\n",
    "\n",
    "scores = np.array([85, 92, 77, 98, 63, 100])\n",
    "min_score = np.min(scores)\n",
    "max_score = np.max(scores)\n",
    "\n",
    "print(f\"Minimum score: {min_score}, Maximum score: {max_score}\")"
   ]
  },
  {
   "cell_type": "code",
   "execution_count": 5,
   "id": "fba7c0b0",
   "metadata": {},
   "outputs": [
    {
     "name": "stdout",
     "output_type": "stream",
     "text": [
      "Variance: 0.000344, Standard Deviation: 0.01854723699099141\n"
     ]
    }
   ],
   "source": [
    "import numpy as np\n",
    "\n",
    "returns = np.array([0.02, 0.03, -0.01, -0.02, 0.01])\n",
    "variance = np.var(returns)\n",
    "std_deviation = np.std(returns)\n",
    "\n",
    "print(f\"Variance: {variance}, Standard Deviation: {std_deviation}\")"
   ]
  },
  {
   "cell_type": "code",
   "execution_count": 6,
   "id": "13c6d2a2",
   "metadata": {},
   "outputs": [
    {
     "name": "stdout",
     "output_type": "stream",
     "text": [
      "Q1: 57500.0, Q3: 90000.0, IQR: 32500.0\n"
     ]
    }
   ],
   "source": [
    "import numpy as np\n",
    "\n",
    "income = np.array([40000, 55000, 60000, 75000, 85000, 95000, 120000])\n",
    "q1 = np.percentile(income, 25)\n",
    "q3 = np.percentile(income, 75)\n",
    "iqr = q3 - q1\n",
    "\n",
    "print(f\"Q1: {q1}, Q3: {q3}, IQR: {iqr}\")"
   ]
  },
  {
   "cell_type": "code",
   "execution_count": null,
   "id": "be443e02",
   "metadata": {},
   "outputs": [],
   "source": []
  }
 ],
 "metadata": {
  "kernelspec": {
   "display_name": "Python 3 (ipykernel)",
   "language": "python",
   "name": "python3"
  },
  "language_info": {
   "codemirror_mode": {
    "name": "ipython",
    "version": 3
   },
   "file_extension": ".py",
   "mimetype": "text/x-python",
   "name": "python",
   "nbconvert_exporter": "python",
   "pygments_lexer": "ipython3",
   "version": "3.9.12"
  }
 },
 "nbformat": 4,
 "nbformat_minor": 5
}
